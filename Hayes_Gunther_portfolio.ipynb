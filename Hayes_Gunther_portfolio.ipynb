{
  "nbformat": 4,
  "nbformat_minor": 0,
  "metadata": {
    "colab": {
      "provenance": []
    },
    "kernelspec": {
      "name": "python3",
      "display_name": "Python 3"
    },
    "language_info": {
      "name": "python"
    }
  },
  "cells": [
    {
      "cell_type": "markdown",
      "source": [
        "\n",
        "1: Variables, Operators, and Expressions\n",
        "\n",
        "This program is a basic total price calculator that will print out the retail price, tax rate, total tax, and the total price. It utilizes variables and operators to form expressions that will calculate the total price, including tax. While this is relatively basic and rudimentary, these are fundamental concepts that will allow you to create more complex code in future cases."
      ],
      "metadata": {
        "id": "vzEZ8yV3KRR5"
      }
    },
    {
      "cell_type": "code",
      "execution_count": null,
      "metadata": {
        "colab": {
          "base_uri": "https://localhost:8080/"
        },
        "id": "CJ_3q3RhLEgy",
        "outputId": "cafbb42c-91be-4494-dd45-16db6c1c20e3"
      },
      "outputs": [
        {
          "output_type": "stream",
          "name": "stdout",
          "text": [
            "Retail Price: $50000.00\n",
            "Tax rate: 0.075\n",
            "Total Tax: $3750.00\n",
            "Total Price: $53750.00\n"
          ]
        }
      ],
      "source": [
        "# input\n",
        "retail_price = 50000\n",
        "tax_rate = 7.5 / 100\n",
        "# processing\n",
        "tax = retail_price * tax_rate    #total tax amount\n",
        "total_price = retail_price + tax #total car price\n",
        "# output\n",
        "print(f'Retail Price: ${retail_price:.2f}')\n",
        "print(f'Tax rate: {tax_rate}')\n",
        "print(f'Total Tax: ${tax:.2f}')\n",
        "print(f'Total Price: ${total_price:.2f}')"
      ]
    },
    {
      "cell_type": "markdown",
      "source": [
        "2: Hard-Coded Return on Investment Calculator\n",
        "\n",
        "This program is a hard-coded return on investment calculator that prints the return on investment. While this is a very simple piece of code, it's a real-world problem that's been broken down and solved with code. This particular code can be useful in business settings where they may need a function that automatically calculates the return on investment.\n"
      ],
      "metadata": {
        "id": "3PMT_tO8LVp3"
      }
    },
    {
      "cell_type": "code",
      "source": [
        "#input\n",
        "invest_gain =1500\n",
        "og_invest = 1000\n",
        "#proccessing\n",
        "roi = (invest_gain - og_invest)/ og_invest\n",
        "#output\n",
        "print(f'the return on investment is: {roi:.2f}')"
      ],
      "metadata": {
        "colab": {
          "base_uri": "https://localhost:8080/"
        },
        "id": "nlhInr39LZEL",
        "outputId": "3f29417d-89cd-4125-c765-867669d66e49"
      },
      "execution_count": null,
      "outputs": [
        {
          "output_type": "stream",
          "name": "stdout",
          "text": [
            "the return on investment is: 0.50\n"
          ]
        }
      ]
    },
    {
      "cell_type": "markdown",
      "source": [
        "3: User Input Future Value or Present Value calculator\n",
        "\n",
        "This program is a future value or present value calculator built using conditional if, elif, and else statements that will ask the user to enter values to compute the future or present value. By chaining conditional statements, I was able to account for three possible case scenarios. The first being the user picked future value, the second being present value, and the third case being where the user picked neither future nor present value, being shown an error message. These are particularly useful concepts as user input is a key piece to having an interactive user program, while the conditional statements will check for each possible case and, if true, will execute the corresponding piece of code."
      ],
      "metadata": {
        "id": "DZeyLxTDLrbq"
      }
    },
    {
      "cell_type": "code",
      "source": [
        "user_pick = input('Please pick either \"future value\" or \"present value\": ')\n",
        "\n",
        "if user_pick == 'future value':\n",
        "  #input\n",
        "  total_cash = float(input('Principle? '))\n",
        "  rate_of_return = float(input('Rate of return? '))\n",
        "  time = float(input('Time? '))\n",
        "  #proccessing\n",
        "  future_value = total_cash * (1 + rate_of_return) ** time\n",
        "  #output\n",
        "  print(f'The future value is: ${future_value:.2f}')\n",
        "elif user_pick == 'present value':\n",
        "  #input\n",
        "  future_value = float(input('Future value? '))\n",
        "  r_of_r = float(input('Rate of Return? '))\n",
        "  t = float(input('Time? '))\n",
        "  #proccessing\n",
        "  pres_value = future_value / (1+ r_of_r) ** t\n",
        "  #output\n",
        "  print(f'The present value today is: ${pres_value:.2f}')\n",
        "else:\n",
        "  print(\"Error: Only 'future value' or 'present value' are implemented\")"
      ],
      "metadata": {
        "colab": {
          "base_uri": "https://localhost:8080/"
        },
        "id": "H7zwDYOdLtVE",
        "outputId": "fb0c298f-7209-4e1e-c429-bcb65ee392f3"
      },
      "execution_count": null,
      "outputs": [
        {
          "output_type": "stream",
          "name": "stdout",
          "text": [
            "Please pick either \"future value\" or \"present value\": future value\n",
            "Principle? 1000\n",
            "Rate of return? .5\n",
            "Time? 30\n",
            "The future value is: $191751059.23\n"
          ]
        }
      ]
    },
    {
      "cell_type": "markdown",
      "source": [
        "4: Discount Calculator using Chained Conditional Statements\n",
        "\n",
        "This program is a discount calculator that asks users the initial price, age, whether they are a student, and whether they are in military service, and will print out the highest discount available and the price with the discount. Chaining conditional statements is a very useful and practical concept that allows programmers to account for multiple cases in their code, making it more comprehensive and flexible in real use cases."
      ],
      "metadata": {
        "id": "4qeuUOMrLyJG"
      }
    },
    {
      "cell_type": "code",
      "source": [
        "#inputs\n",
        "price = float(input('What is the price of the item? '))\n",
        "age = int(input('How old are you? '))\n",
        "student = input('Are you a student? (y/n) ')\n",
        "mil = input('Are you of active or veteran military status?')\n",
        "#processing\n",
        "if age >= 65:\n",
        "  dis = 0.2\n",
        "elif mil == 'veteran' or mil == 'active':\n",
        "  dis = 0.15\n",
        "elif age < 13:\n",
        "  discount = 0.1\n",
        "elif student == 'y':\n",
        "  dis = 0.05\n",
        "else:\n",
        "  dis = 0\n",
        "dis_mount = price * dis\n",
        "newprice = price - dis_mount\n",
        " #output\n",
        "print(f'discount recieved: {dis*100:.2f}%')\n",
        "print(f'the price is: ${newprice}')"
      ],
      "metadata": {
        "colab": {
          "base_uri": "https://localhost:8080/"
        },
        "id": "abYkNJ1SLzvi",
        "outputId": "91ac4015-4c90-4cbd-8209-238a17f98fe5"
      },
      "execution_count": null,
      "outputs": [
        {
          "output_type": "stream",
          "name": "stdout",
          "text": [
            "What is the price of the item? 100\n",
            "How old are you? 67\n",
            "Are you a student? (y/n) n\n",
            "Are you of active or veteran military status?veteran\n",
            "discount recieved: 20.00%\n",
            "the price is: $80.0\n"
          ]
        }
      ]
    },
    {
      "cell_type": "markdown",
      "source": [
        "5: Basic Function and While Loop Return on Investment Analysis\n",
        "\n",
        "This program contains a function named roi_calc that computes the return on investment, which is called in a while loop that will then evaluate whether it is a good or bad investment. Functions are very useful as you can reuse the same logic multiple times in your code without having to completely rewrite the code itself. While loops are also particularly useful in cases where you need to repeat the execution of code more than once, without writing it multiple times. In this case, this program will ask the user for 3 investments and then stop the execution of code."
      ],
      "metadata": {
        "id": "XnNxQDv4L-Z-"
      }
    },
    {
      "cell_type": "code",
      "source": [
        "def roi_calc(og_invest, invest_gain):\n",
        "  roi = (invest_gain - og_invest)/ og_invest\n",
        "  return roi\n",
        "\n",
        "i = 0\n",
        "\n",
        "while i < 3:\n",
        "  #Input\n",
        "  og_invest = float(input('what is the original investment? '))\n",
        "  invest_gain = float(input('What is the current value of the investment? '))\n",
        "  #Processing\n",
        "  roi = roi_calc(og_invest, invest_gain)\n",
        "  #Output\n",
        "  if roi >= 0.10:\n",
        "    inv= 'an excellent investment'\n",
        "  elif roi <0.10 and roi >0.07:\n",
        "    inv= 'a good investment'\n",
        "  elif roi <= 0.07 and roi >= 0.05:\n",
        "    inv= 'a fair investment'\n",
        "  elif roi < 0.05 and roi > 0:\n",
        "    inv= 'an ok investment'\n",
        "  else:\n",
        "    inv= 'a bad investment'\n",
        "  print(f'The return on investment is:{roi*100:.2f}% with an analysis of:{inv}')\n",
        "  print('')\n",
        "  i = i + 1"
      ],
      "metadata": {
        "colab": {
          "base_uri": "https://localhost:8080/"
        },
        "id": "_FYmkmd4L_hK",
        "outputId": "c7a4d96e-44f1-4c19-f113-7fbce97e2c9a"
      },
      "execution_count": null,
      "outputs": [
        {
          "output_type": "stream",
          "name": "stdout",
          "text": [
            "what is the original investment? 100\n",
            "What is the current value of the investment? 107.50\n",
            "The return on investment is:7.50% with an analysis of:a good investment\n",
            "\n",
            "what is the original investment? 100\n",
            "What is the current value of the investment? 105\n",
            "The return on investment is:5.00% with an analysis of:a fair investment\n",
            "\n",
            "what is the original investment? 100\n",
            "What is the current value of the investment? 90\n",
            "The return on investment is:-10.00% with an analysis of:a bad investment\n",
            "\n"
          ]
        }
      ]
    },
    {
      "cell_type": "markdown",
      "source": [
        "6: Infinite Loop\n",
        "\n",
        "This piece of code is an infinite loop because the expression while n > 0 will always be true because n will never be less than 0. This is because n is being increased by 1 and not decreased, so the condition will never be false. To fix this loop, we would need to change how n is being updated in the loop to n = n - 1, not n = n + 1, so that eventually n will be less than 0 and our loop will finish. While infinite loops aren't typically good, they can be useful in certain cases where a program needs to be constantly running, continuously taking input, or running a particular service."
      ],
      "metadata": {
        "id": "WiDmrVGqNeZz"
      }
    },
    {
      "cell_type": "code",
      "source": [
        "#input\n",
        "n = 15\n",
        "#processing\n",
        "while n > 0:\n",
        "#output\n",
        "  print(n)\n",
        "  n = n + 1\n"
      ],
      "metadata": {
        "id": "43XJLIg_RXDR"
      },
      "execution_count": null,
      "outputs": []
    },
    {
      "cell_type": "markdown",
      "source": [
        "7: Reading Text Files\n",
        "\n",
        "This simple program reads and displays a text file containing dad jokes. This is particularly useful for being able to read and display the content of any text file. This is a very important concept as the program is receiving data from an external source and then returning that same data in the format it was received, allowing the code to interact with external data sets and then display the data."
      ],
      "metadata": {
        "id": "XbsLWRooNzyc"
      }
    },
    {
      "cell_type": "code",
      "source": [
        "#input\n",
        "dad_jokes = open ('drive/MyDrive/dadjokes.txt', \"r\")\n",
        "#processing\n",
        "for line in dad_jokes:\n",
        "#output\n",
        "    print(line)\n",
        "print(\"All done!\")"
      ],
      "metadata": {
        "colab": {
          "base_uri": "https://localhost:8080/"
        },
        "id": "GAr2onQzN26G",
        "outputId": "10293958-e77c-4a85-b9ce-af82494c474a"
      },
      "execution_count": null,
      "outputs": [
        {
          "output_type": "stream",
          "name": "stdout",
          "text": [
            "What kind of cheese isn't yours?\n",
            "\n",
            "Nacho cheese\n",
            "\n",
            "\n",
            "\n",
            "What did 0 say to 8?\n",
            "\n",
            "Nice belt\n",
            "\n",
            "\n",
            "\n",
            "I had a friend named Tony who said I couldn't say his name backwards.\n",
            "\n",
            "I replied, \"Y not?\"\n",
            "\n",
            "All done!\n"
          ]
        }
      ]
    },
    {
      "cell_type": "markdown",
      "source": [
        "8: Indexing Specific Values in an Array\n",
        "\n",
        "This program contains an array with scores listed from 10-100 that will search for the index with the value 90 and print the index and value. Indexing arrays is a very usefull skill as you can sort and find speffic values and the index it was found. In large arrays or data sets it can save immense amounts of time by indexing a certain value rather than sorting through the whole array it self."
      ],
      "metadata": {
        "id": "wb09tKtvN4J4"
      }
    },
    {
      "cell_type": "code",
      "source": [
        "scores = [100,90,80,70,60,50,40,30,20,10]\n",
        "value = 90\n",
        "location = scores.index(value)\n",
        "print(f'{value} is located at {location}')"
      ],
      "metadata": {
        "colab": {
          "base_uri": "https://localhost:8080/"
        },
        "id": "2IarWylhN5uN",
        "outputId": "cfe8e23b-8bed-4895-a7a3-aca72d412f62"
      },
      "execution_count": null,
      "outputs": [
        {
          "output_type": "stream",
          "name": "stdout",
          "text": [
            "90 is located at 1\n"
          ]
        }
      ]
    },
    {
      "cell_type": "markdown",
      "source": [
        "9: Dictionaries\n",
        "\n",
        "This program is a dictionary containing 10 scores with a key and item value. Dictionaries are very useful, especially when handling larger data sets. It allows you to search for values using the associated key, allowing for faster retrieval and organization of data. This is much more efficient than manually sorting through each column for a particular value."
      ],
      "metadata": {
        "id": "_FPVDXmMOGk8"
      }
    },
    {
      "cell_type": "code",
      "source": [
        "score_dict = {'score1':100, 'score2':90, 'score3':80, 'score4':70, 'score5':60,\n",
        "'score6':50, 'score7':40, 'score8':30, 'score9':20, 'score10':10}\n",
        "key = score_dict.keys()\n",
        "print(f'Keys: {key}')\n",
        "items = score_dict.items()\n",
        "print(f'Items: {items}')"
      ],
      "metadata": {
        "colab": {
          "base_uri": "https://localhost:8080/"
        },
        "id": "M0zDX0bHOJqr",
        "outputId": "12cc6725-a664-4e5b-fe79-b2454c1bfd88"
      },
      "execution_count": null,
      "outputs": [
        {
          "output_type": "stream",
          "name": "stdout",
          "text": [
            "Keys: dict_keys(['score1', 'score2', 'score3', 'score4', 'score5', 'score6', 'score7', 'score8', 'score9', 'score10'])\n",
            "Items: dict_items([('score1', 100), ('score2', 90), ('score3', 80), ('score4', 70), ('score5', 60), ('score6', 50), ('score7', 40), ('score8', 30), ('score9', 20), ('score10', 10)])\n"
          ]
        }
      ]
    },
    {
      "cell_type": "markdown",
      "source": [
        "10: Data Frame Manipulation\n",
        "\n",
        "This program imports the Python library pandas, which is used for data analytics. In this case, I have created a dictionary containing names, age, and the nickname of a variety of people and have manipulated the data set to print just rows A and C or rows B, C, D, and just the columns name and nickname. This is very useful for data visualization as you can look at particular parts of the data set while excluding other pieces, making the data more concise and relevant."
      ],
      "metadata": {
        "id": "MKwF6ZcROSNn"
      }
    },
    {
      "cell_type": "code",
      "source": [
        "import pandas\n",
        "data = {\n",
        "    'name': ['george', 'jane', 'judy', 'elroy'],\n",
        "    'age' : [30, 29, 17, 12],\n",
        "    'nickname': ['geo', 'jay', 'jude', 'el']\n",
        "}\n",
        "dataframe = pandas.DataFrame(data)\n",
        "print(dataframe)\n",
        "print(\"\")\n",
        "dataframe.index = ['A', 'B', 'C', 'D']\n",
        "AC_range = dataframe.loc[['A', 'C'], ['name','age','nickname']]\n",
        "print(AC_range)\n",
        "print(\"\")\n",
        "BD_range = dataframe.loc['B':'D', ['name', 'nickname']]\n",
        "print(BD_range)"
      ],
      "metadata": {
        "colab": {
          "base_uri": "https://localhost:8080/"
        },
        "id": "0zzBNiWIOUBN",
        "outputId": "feab18ca-f240-41ff-97f7-72a281ee9a24"
      },
      "execution_count": null,
      "outputs": [
        {
          "output_type": "stream",
          "name": "stdout",
          "text": [
            "     name  age nickname\n",
            "0  george   30      geo\n",
            "1    jane   29      jay\n",
            "2    judy   17     jude\n",
            "3   elroy   12       el\n",
            "\n",
            "     name  age nickname\n",
            "A  george   30      geo\n",
            "C    judy   17     jude\n",
            "\n",
            "    name nickname\n",
            "B   jane      jay\n",
            "C   judy     jude\n",
            "D  elroy       el\n"
          ]
        }
      ]
    },
    {
      "cell_type": "markdown",
      "source": [
        "11: Searching CSV File Data\n",
        "\n",
        "This program sorts through the given CSV file searching for a particular string, in this case, it was 'Clark'. It will search each row that contains the given pattern and then return the number of times it was found in the CSV file. This is very useful, especially when handling larger data sets, as you can target a particular value without manually searching the whole data set itself."
      ],
      "metadata": {
        "id": "X9f82sStOseg"
      }
    },
    {
      "cell_type": "code",
      "source": [
        "#input\n",
        "filename = 'drive/MyDrive/spike.csv'\n",
        "#processing\n",
        "df = pandas.read_csv(filename)\n",
        "#input\n",
        "patt = r'Clark'\n",
        "#processing\n",
        "rows = df.loc[:, 'text'].str.contains(patt)\n",
        "df_clark = df.loc[rows,:]\n",
        "df_clark.to_csv('clark-results.csv')\n",
        "#output\n",
        "print(f'Found: {len(df_clark)} entries')"
      ],
      "metadata": {
        "colab": {
          "base_uri": "https://localhost:8080/"
        },
        "id": "rSTch1FgOvaM",
        "outputId": "349d3380-934f-4d06-9fe9-bb213e8bf6ee"
      },
      "execution_count": null,
      "outputs": [
        {
          "output_type": "stream",
          "name": "stdout",
          "text": [
            "Found: 94 entries\n"
          ]
        }
      ]
    },
    {
      "cell_type": "markdown",
      "source": [
        "12: Object Oriented Program\n",
        "\n",
        "This program contains an object or class named Haggler to calculate the discounted amount you should bargain for. This class contains four functions: a sales calculator, discount, price without tax, and the discount amount you should ask for. The haggler class is then called using user input values to compute the bargained discount rate. Objects are very useful as you store multiple functions inside, allowing you to use them in synchronicity. Like functions, Objects allow you to reuse complex code, prevent potential bugs, and centralize your logic into a condensed version."
      ],
      "metadata": {
        "id": "MGlOCiPsQgvw"
      }
    },
    {
      "cell_type": "code",
      "source": [
        "class Haggler:\n",
        "  #sales calculator\n",
        "  def sales_calc(self, price, tax_rate):\n",
        "   total = price + (price * tax_rate)\n",
        "   return total\n",
        "\n",
        "  #discount\n",
        "  def mark_up_down(self, original_price, new_price):\n",
        "    disc = (new_price - original_price) / original_price\n",
        "    return disc\n",
        "\n",
        "  #price without tax\n",
        "  def price_without_tax(self, price_with_tax, tax_rate):\n",
        "    price_without_tax = price_with_tax / (1 + tax_rate)\n",
        "    return price_without_tax\n",
        "\n",
        "  #ask discount\n",
        "  def ask_discount(self, max_price, tax_rate, sales_price):\n",
        "    asking_price = self.price_without_tax(max_price, tax_rate)\n",
        "    discount = self.mark_up_down(sales_price, asking_price)\n",
        "    return discount\n",
        "\n",
        "haggle = Haggler()\n",
        "#input\n",
        "cur_price = float(input(\"Price: \"))\n",
        "max_price = float(input(\"Max price: \"))\n",
        "tax_rate = float(input(\"Tax rate (%): \"))/100\n",
        "#proccesing\n",
        "discount = haggle.ask_discount(max_price, tax_rate, cur_price)\n",
        "disc = discount * 100\n",
        "#output\n",
        "print(f'Ask for a {disc:.2f}% discount')"
      ],
      "metadata": {
        "colab": {
          "base_uri": "https://localhost:8080/"
        },
        "id": "m_aNezRKQi0b",
        "outputId": "66921cb9-de08-4a4d-d996-03af5b46e216"
      },
      "execution_count": null,
      "outputs": [
        {
          "output_type": "stream",
          "name": "stdout",
          "text": [
            "Price: 3000\n",
            "Max price: 2000\n",
            "Tax rate (%): 7.75\n",
            "Ask for a -38.13% discount\n"
          ]
        }
      ]
    },
    {
      "cell_type": "markdown",
      "source": [
        "13: Data Vizulization\n",
        "\n",
        "This program is a graphical display of the GameStop and NVIDIA stock portfolio data from Yahoo Finance using the Python libraries pandas, numpy, and matplotlib. Data visualization is one of the most practical uses of programming, as you can sort, configure, plot, and display large data sets in a short amount of code. In many cases, this is much more efficient than manually configuring the data to graph on something like Excel, for example."
      ],
      "metadata": {
        "id": "3NSh6TQKQxv6"
      }
    },
    {
      "cell_type": "code",
      "source": [
        "import pandas\n",
        "import numpy\n",
        "import matplotlib.pyplot as plt\n",
        "\n",
        "dfGME = pandas.read_csv('drive/MyDrive/Gamestop.csv')\n",
        "dfNVDA = pandas.read_csv('drive/MyDrive/NVIDIA Corporation.csv')\n",
        "#Gamestop\n",
        "x_GME = dfGME['Date']\n",
        "y_GME = dfGME['Close ']\n",
        "plt.plot(x_GME,y_GME,label='Gamestop Stock')\n",
        "#Nvidia\n",
        "x_NVDA = dfNVDA['Date']\n",
        "y_NVDA = dfNVDA['Close ']\n",
        "plt.plot(x_NVDA,y_NVDA,label='NVIDIA Stock')\n",
        "\n",
        "plt.title('Gamestop V.S. NVIDIA')\n",
        "plt.xlabel('Date')\n",
        "plt.ylabel('Stock Price ($)')\n",
        "plt.legend()\n",
        "plt.show()"
      ],
      "metadata": {
        "colab": {
          "base_uri": "https://localhost:8080/",
          "height": 472
        },
        "id": "mCGEuLWFQzoX",
        "outputId": "59f2ca8d-5504-4864-b76b-c1c4eb0e98d5"
      },
      "execution_count": null,
      "outputs": [
        {
          "output_type": "display_data",
          "data": {
            "text/plain": [
              "<Figure size 640x480 with 1 Axes>"
            ],
            "image/png": "[encoded data removed]"
          },
          "metadata": {}
        }
      ]
    }
  ]
}